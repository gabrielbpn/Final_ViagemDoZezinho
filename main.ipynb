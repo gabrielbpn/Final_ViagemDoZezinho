{
 "cells": [
  {
   "cell_type": "markdown",
   "metadata": {},
   "source": [
    "# Viagem do zezinho\n",
    "\n",
    "Este trabalho tem como objetivo descrever alguns problemas que o Zezinho teve em sua viagem e a partir dos algoritmos estudados podemos ajudá-lo.\n",
    "\n",
    "Os problemas da viagem são os seguintes:\n",
    "\n",
    "- Achar o menor caminho para o seu destino, utilizando o algoritmo de Dijkstra;\n",
    "- Guardar seus brinquedos no cofre do hotel, onde ele tem uma capacidade especifica, seus brinquedos tem tamanhos específicos e o valor sentimental de cada um deles (Knapsack - PD);\n",
    "- Verificar quais são as atrações mais próximas (Par de pontos mais próximos - Greedy). "
   ]
  }
 ],
 "metadata": {
  "interpreter": {
   "hash": "37b255bb5dc0d995b91bd1b934b878e610a26475f52eafaf29fdb395fb105534"
  },
  "kernelspec": {
   "display_name": "Python 3.9.5 ('base')",
   "language": "python",
   "name": "python3"
  },
  "language_info": {
   "codemirror_mode": {
    "name": "ipython",
    "version": 3
   },
   "file_extension": ".py",
   "mimetype": "text/x-python",
   "name": "python",
   "nbconvert_exporter": "python",
   "pygments_lexer": "ipython3",
   "version": "3.9.5"
  },
  "orig_nbformat": 4
 },
 "nbformat": 4,
 "nbformat_minor": 2
}
